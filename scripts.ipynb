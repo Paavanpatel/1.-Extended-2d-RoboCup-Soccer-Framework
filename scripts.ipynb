{
 "metadata": {
  "language_info": {
   "codemirror_mode": {
    "name": "ipython",
    "version": 3
   },
   "file_extension": ".py",
   "mimetype": "text/x-python",
   "name": "python",
   "nbconvert_exporter": "python",
   "pygments_lexer": "ipython3",
<<<<<<< HEAD
   "version": "3.6.9-final"
=======
   "version": "3.8.5-final"
>>>>>>> 932fc708354120689a4d6a89081e60840d098d11
  },
  "orig_nbformat": 2,
  "kernelspec": {
   "name": "python3",
<<<<<<< HEAD
   "display_name": "Python 3.6.9 64-bit",
=======
   "display_name": "Python 3.8.5 64-bit",
>>>>>>> 932fc708354120689a4d6a89081e60840d098d11
   "metadata": {
    "interpreter": {
     "hash": "31f2aee4e71d21fbe5cf8b01ff0e069b9275f58929596ceb00d14d90e3e16cd6"
    }
   }
  }
 },
 "nbformat": 4,
 "nbformat_minor": 2,
 "cells": [
  {
   "cell_type": "code",
<<<<<<< HEAD
   "execution_count": null,
   "metadata": {},
=======
   "execution_count": 11,
   "metadata": {
    "tags": []
   },
>>>>>>> 932fc708354120689a4d6a89081e60840d098d11
   "outputs": [],
   "source": [
    "import os\n",
    "import json\n",
    "import pathlib\n",
    "\n",
<<<<<<< HEAD
    "inputpath = '/home/nps2dsoccer/Project/logs/archive.robocup.info/Soccer/Simulation/2D/logs/'\n",
    "outputpath = '/home/nps2dsoccer/Project/logs/dataset/shoots'"
=======
    "inputpath = '/home/nps2dsoccer/logs/archive.robocup.info/Soccer/Simulation/2D/logs/'\n",
    "outputpath = '/home/nps2dsoccer/logs/dataset/shoots/'\n",
    "\n",
    "# count = 0\n",
    "for log_file in pathlib.Path(inputpath).glob('**/*.rcg.gz'):\n",
    "    # count = count + 1\n",
    "    # if count < 4 :\n",
    "            \n",
    "    file_length = len(log_file.stem)\n",
    "   \n",
    "    com_filepath = str(log_file)\n",
    "    # toll = len(com_filepath)\n",
    "    # print(1, ' Src: ', com_filepath[len(inputpath): len(com_filepath) - file_length - 3])\n",
    "    structure = os.path.join(outputpath, com_filepath[len(inputpath): len(com_filepath) - file_length - 3 ], log_file.stem[: file_length - 4], '') #  3 is used to adjust the '.gz' of the file name that is not considered by stem\n",
    "    # print(2, ' Dataset: ', structure)\n",
    "    # print(3, ' File: ',log_file.stem, file_length)\n",
    "\n",
    "    if not os.path.isdir(structure):\n",
    "        os.makedirs(structure)\n",
    "    gen_shoot_situations(log_file, structure)\n"
>>>>>>> 932fc708354120689a4d6a89081e60840d098d11
   ]
  },
  {
   "cell_type": "code",
<<<<<<< HEAD
   "execution_count": 1,
=======
   "execution_count": 10,
>>>>>>> 932fc708354120689a4d6a89081e60840d098d11
   "metadata": {},
   "outputs": [],
   "source": [
    "from collections import deque\n",
    "\n",
    "def gen_shoot_situations(src, dest): \n",
    "    line_history = deque(maxlen=15)  # Decided based on matched of 2019 Elimination Round (Max 15 cycle)\n",
    "    cycle_history = deque(maxlen=3)  # Safely allocated to read a situation after discussion with Thiago\n",
    "    potent_cycle = deque(maxlen=3)\n",
    "    count = 0\n",
    "    with open(src) as inputs:\n",
    "        for line in inputs:\n",
    "            if \" goal_l\" in line : \n",
    "                count += 1\n",
    "                # print('Goal Count: ' , count)\n",
<<<<<<< HEAD
    "                \n",
=======
>>>>>>> 932fc708354120689a4d6a89081e60840d098d11
    "                cycle_slice = find_shoot(line_history, cycle_history, potent_cycle )\n",
    "                # print(cycle_slice)\n",
    "                \n",
    "                # print(*line_history, sep='\\n')\n",
    "\n",
    "                # for cycle in line_history:\n",
    "                #     if \" 0x3 \" in cycle  : # check if kick is found any cycle prior to the goal \n",
    "                #         cycle_history.append(cycle)\n",
    "                #         potent_cycle = cycle_history.copy()\n",
    "                        \n",
    "                #     else:\n",
    "                #         # to keep just the two cycle prior where the kick is found\n",
    "                #         cycle_history.append(cycle)\n",
    "                \n",
    "                # # print(cycle_history.popleft())  # pop the last two clcyle prior where the kick is found\n",
    "                # cycle_slice = potent_cycle.popleft()\n",
    "                # print(cycle_slice)\n",
    "                # print( line, 'L')\n",
    "\n",
    "                gen_json(count, cycle_slice , dest, 'L')\n",
    "\n",
    "                \n",
    "                # Clear history so if two goal_l/goal_r seen in close proximity, we don't\n",
    "                # echo some lines twice\n",
    "                # line_history.clear()\n",
    "            elif \" goal_r\" in line:\n",
    "                count += 1\n",
    "                # print('Goal Count: ' , count)\n",
    "                cycle_slice = find_shoot(line_history, cycle_history, potent_cycle )\n",
    "                # print(cycle_slice)\n",
    "                gen_json(count, cycle_slice , dest, 'R')\n",
    "\n",
    "                # print(cycle_slice)\n",
    "                # print( line, 'R')\n",
    "\n",
    "            else:\n",
    "                # When deque reaches 15 lines, will automatically evict oldest\n",
    "                line_history.append(line)\n",
    "                "
   ]
  },
  {
   "cell_type": "code",
<<<<<<< HEAD
   "execution_count": 2,
=======
   "execution_count": 9,
>>>>>>> 932fc708354120689a4d6a89081e60840d098d11
   "metadata": {},
   "outputs": [],
   "source": [
    "def find_shoot(line_history, cycle_history, potent_cycle):\n",
    "    for cycle in line_history:\n",
    "        if is_valid_cycle(cycle): # Check if cycle is valid\n",
    "            \n",
<<<<<<< HEAD
    "            # When the state of the player is overwritten by other states (say yellow; ), return the last last line of history as a default\n",
=======
    "            # When the state of the player is overwritten by other states (say yellow; ), returen the last last line of history as a default\n",
>>>>>>> 932fc708354120689a4d6a89081e60840d098d11
    "            cycle_slice = cycle\n",
    "\n",
    "            if \" 0x3 \" in cycle  : # check if kick is found any cycle prior to the goal \n",
    "                cycle_history.append(cycle)\n",
    "                potent_cycle = cycle_history.copy()\n",
    "                \n",
    "            else:\n",
    "                # to keep just the two cycle prior where the kick is found\n",
    "                cycle_history.append(cycle)\n",
    "\n",
    "    # print(cycle_history.popleft())  \n",
    "    # print('Lenght of line_history: ',len(line_history), ' Lenght of cycle_hostory: ', len(cycle_history), ' Lenght of potent_cycle', len(potent_cycle) )\n",
    "    if potent_cycle: \n",
    "        # When kick is found based of state of the player (0x3)\n",
    "        cycle_slice = potent_cycle.popleft() # pop the two clcyle prior where the kick is found (two cycle a buffer)\n",
    "\n",
    "    # print(cycle_slice)\n",
    "    \n",
    "    line_history.clear()\n",
    "    return cycle_slice\n"
   ]
  },
  {
   "cell_type": "code",
<<<<<<< HEAD
   "execution_count": 3,
=======
   "execution_count": 7,
>>>>>>> 932fc708354120689a4d6a89081e60840d098d11
   "metadata": {},
   "outputs": [],
   "source": [
    "def is_valid_cycle(cycle):\n",
    "    # is_valid = False\n",
    "    # if len(cucle) > 100:\n",
    "    #     is_valie = True\n",
    "    return True if len(cycle) > 100 else False\n"
   ]
  },
  {
   "cell_type": "code",
<<<<<<< HEAD
   "execution_count": 4,
=======
   "execution_count": 6,
>>>>>>> 932fc708354120689a4d6a89081e60840d098d11
   "metadata": {},
   "outputs": [],
   "source": [
    "def create_cycleList(cycleSlice):\n",
    "    # create List Of List containing values of ball and each player\n",
    "    cycle = list()\n",
    "    cycle_list = cycleSlice.split(\"))\")\n",
    "    del cycle_list[-1]\n",
    "    for i in cycle_list:\n",
    "        cycle.append(i + \"))\")\n",
    "\n",
    "    cyclenew = list()\n",
    "    cyclenew.insert(0,cycle[0].split()[:7])\n",
    "    cyclenew.append(cycle[0].split()[7:])\n",
    "    del cycle[0]\n",
    "\n",
    "    for i in cycle:\n",
    "        cyclenew.append(i.split())\n",
    "\n",
    "    return cyclenew\n",
    "\n",
    "\n",
    "# Functions to extract values of each player and ball from log cycle\n",
    "\n",
    "def ball_data(data):\n",
    "    for i in range(len(data)):\n",
    "        if(data[i]==\"((b)\"):\n",
    "            ball_x = float(data[i+1])\n",
    "            ball_y = float(data[i+2])\n",
    "            ballvel_x = float(data[i+3])\n",
    "            ballvel_y = float(data[i+4][:-1])\n",
    "    return ball_x, ball_y, ballvel_x, ballvel_y\n",
    "\n",
    "def player_position(data, side_pattern):\n",
    "    for i in range(len(data)):\n",
    "        if(data[i]== side_pattern):\n",
    "            unum = int(data[i+1][:-1])\n",
    "            pos_x = float(data[i+4])\n",
    "            pos_y = float(data[i+5])\n",
    "            vel_x = float(data[i+6])\n",
    "            vel_y = float(data[i+7])\n",
    "            b_angle = float(data[i+8])\n",
    "            h_angle = float(data[i+9])\n",
    "        else:\n",
    "            continue\n",
    "    return unum, pos_x, pos_y, vel_x, vel_y, b_angle, h_angle\n",
    "\n",
    "def player_view(data, pattern):\n",
    "    for i in range(len(data)):\n",
    "        if(data[i]==pattern):\n",
    "            view_width = int(data[i+2][:-1])\n",
    "        else:\n",
    "            continue\n",
    "    return view_width\n",
    "\n",
    "def player_power(data, pattern):\n",
    "    if pattern in data:\n",
    "        for i in range(len(data)):\n",
    "            if(data[i]== pattern):\n",
    "                stamina = float(data[i+1])\n",
    "                effort = float(data[i+2])\n",
    "                recovery = float(data[i+3])\n",
    "                turnneck = float(data[i+4][:-1])\n",
    "            else:\n",
    "                continue\n",
    "    else:\n",
    "        stamina = 0\n",
    "        effort = 0\n",
    "        recovery = 0\n",
    "        turnneck = 0\n",
    "    return stamina, effort, recovery, turnneck\n",
    "\n",
    "def player_face(data, pattern):\n",
    "    if pattern in data:\n",
    "        for i in range(len(data)):\n",
    "            if(data[i]== pattern):\n",
    "                playerside = data[i+1]\n",
    "                playerunum = int(data[i+2][:-1])\n",
    "            else:\n",
    "                continue\n",
    "    else:\n",
    "        playerside = 'na'\n",
    "        playerunum = -1\n",
    "    return playerside, playerunum\n",
    "\n",
    "def counts(data, pattern):\n",
    "    if pattern in data:\n",
    "        for i in range(len(data)):\n",
    "            if(data[i]==pattern):\n",
    "                K_count = int(data[i+1])\n",
    "                d_count = int(data[i+2])\n",
    "                t_count = int(data[i+3])\n",
    "                say_count = int(data[i+4])\n",
    "                turnNeck_count = int(data[i+5])\n",
    "                catch_count = int(data[i+6])\n",
    "                m_count = int(data[i+7])\n",
    "                change_view = int(data[i+8])\n",
    "                point_to = int(data[i+9])\n",
    "                att_to = int(data[i+10])\n",
    "                tackle_count = int(data[i+11][:-2])\n",
    "            else:\n",
    "                continue\n",
    "    else:\n",
    "        K_count = d_count = t_count = say_count = turnNeck_count = catch_count = m_count = change_view = point_to = att_to = tackle_count = 0  \n",
    "    return K_count, d_count, t_count, say_count, turnNeck_count, catch_count, m_count, change_view, point_to, att_to, tackle_count\n",
    "\n",
    "\n",
    "\n",
    "def gen_json(count, cycle_slice, dest, side):\n",
    "\n",
    "    cycle_dataset = create_cycleList(cycle_slice)\n",
    "\n",
    "    player = []\n",
    "    ball_x, ball_y, ballvel_x, ballvel_y = ball_data(cycle_dataset[0])\n",
    "    ball = dict([(\"posx\",ball_x),(\"posy\",ball_y),(\"velx\",ballvel_x),(\"vely\",ballvel_y)])   #create a dictionary of ball postion and velocity\n",
    "\n",
    "\n",
    "    for i in range(1,len(cycle_dataset)):           #create the player dictionary of dictionary that will store data about each players\n",
    "        if(i<12):\n",
    "            unum, pos_x, pos_y, vel_x, vel_y, b_angle, h_angle = player_position(cycle_dataset[i],\"((l\")\n",
    "            viewWidth = player_view(cycle_dataset[i],\"(v\")\n",
    "            stamina, effort, recovery, turn_neck = player_power(cycle_dataset[i], \"(s\")\n",
    "            playerside, playerunum = player_face(cycle_dataset[i],\"(f\")\n",
    "            K_count, d_count, t_count, say_count, turnNeck_count, catch_count, m_count, change_view, point_to, att_to, tackle_count = counts(cycle_dataset[i],\"(c\")\n",
    "        \n",
    "            player_dict = dict([(\"unum\",unum),(\"side\",\"l\"),(\"posx\",pos_x),(\"posy\",pos_y),(\"velx\",vel_x),(\"vely\",vel_y), (\"bangle\",b_angle), (\"hangle\",h_angle), (\"viewWidth\",viewWidth), (\"stamina\",stamina), (\"effort\",effort),(\"recovery\",recovery), (\"turnNeck\", turn_neck), (\"facePlayerSide\", playerside), (\"facePlayerNum\",playerunum), (\"kickCount\",K_count), (\"dashCount\",d_count),(\"turnCount\",t_count),(\"sayCount\",say_count), (\"turnNeckCount\", turnNeck_count), (\"catchCount\",catch_count), (\"moveCount\",m_count), (\"changeView\",change_view), (\"pointtoCount\",point_to), (\"attentoCount\",att_to), (\"tackleCount\",tackle_count)])\n",
    "            player.append(player_dict)\n",
    "        elif(i>11):\n",
    "            unum, pos_x, pos_y, vel_x, vel_y, b_angle, h_angle = player_position(cycle_dataset[i],\"((r\")\n",
    "            viewWidth = player_view(cycle_dataset[i],\"(v\")\n",
    "            stamina, effort, recovery, turn_neck = player_power(cycle_dataset[i], \"(s\")\n",
    "            playerside, playerunum = player_face(cycle_dataset[i], '(f')\n",
    "            K_count, d_count, t_count, say_count, turnNeck_count, catch_count, m_count, change_view, point_to, att_to, tackle_count = counts(cycle_dataset[i],\"(c\")\n",
    "        \n",
    "            player_dict = dict([(\"unum\",unum),(\"side\",\"r\"),(\"posx\",pos_x),(\"posy\",pos_y),(\"velx\",vel_x),(\"vely\",vel_y), (\"bangle\",b_angle), (\"hangle\",h_angle), (\"viewWidth\",viewWidth), (\"stamina\",stamina), (\"effort\",effort),(\"recovery\",recovery), (\"turnNeck\", turn_neck), (\"facePlayerSide\", playerside), (\"facePlayerNum\",playerunum), (\"kickCount\",K_count), (\"dashCount\",d_count),(\"turnCount\",t_count),(\"sayCount\",say_count), (\"turnNeckCount\", turnNeck_count), (\"catchCount\",catch_count), (\"moveCount\",m_count), (\"changeView\",change_view), (\"pointtoCount\",point_to), (\"attentoCount\",att_to), (\"tackleCount\",tackle_count)])\n",
    "            player.append(player_dict)\n",
    "\n",
    "    final_dict={\"cycle\" : int(cycle_dataset[0][1]), \"ball\":ball,\"players\":{\"player\": player}}\n",
    "\n",
    "    # # Dump Dictionary to JSON file\n",
    "\n",
    "    with open(f'{dest}' + f'{side}-shootsituation-{count}.json', 'w') as fp:\n",
    "        json.dump(final_dict, fp)\n",
    "    # return final_di"
   ]
  },
  {
   "cell_type": "code",
<<<<<<< HEAD
   "execution_count": 5,
   "metadata": {
    "tags": []
   },
   "outputs": [],
   "source": [
    "# count = 0\n",
    "for log_file in pathlib.Path(inputpath).glob('**/*.rcg.gz'):\n",
    "    # count = count + 1\n",
    "    # if count < 4 :\n",
    "            \n",
    "    file_length = len(log_file.stem)\n",
    "   \n",
    "    com_filepath = str(log_file)\n",
    "    # toll = len(com_filepath)\n",
    "    # print(1, ' Src: ', com_filepath[len(inputpath): len(com_filepath) - file_length - 3])\n",
    "    structure = os.path.join(outputpath, com_filepath[len(inputpath): len(com_filepath) - file_length - 3 ], log_file.stem[: file_length - 4], '') #  3 is used to adjust the '.gz' of the file name that is not considered by stem\n",
    "    # print(2, ' Dataset: ', structure)\n",
    "    # print(3, ' File: ',log_file.stem, file_length)\n",
    "\n",
    "    if not os.path.isdir(structure):\n",
    "        os.makedirs(structure)\n",
    "    gen_shoot_situations(log_file, structure)\n"
   ]
  },
  {
   "cell_type": "code",
=======
>>>>>>> 932fc708354120689a4d6a89081e60840d098d11
   "execution_count": null,
   "metadata": {},
   "outputs": [],
   "source": []
  }
 ]
}