{
 "metadata": {
  "language_info": {
   "codemirror_mode": {
    "name": "ipython",
    "version": 3
   },
   "file_extension": ".py",
   "mimetype": "text/x-python",
   "name": "python",
   "nbconvert_exporter": "python",
   "pygments_lexer": "ipython3",
   "version": "3.6.9-final"
  },
  "orig_nbformat": 2,
  "kernelspec": {
   "name": "python3",
   "display_name": "Python 3.6.9 64-bit",
   "metadata": {
    "interpreter": {
     "hash": "31f2aee4e71d21fbe5cf8b01ff0e069b9275f58929596ceb00d14d90e3e16cd6"
    }
   }
  }
 },
 "nbformat": 4,
 "nbformat_minor": 2,
 "cells": [
  {
   "cell_type": "code",
   "execution_count": 24,
   "metadata": {},
   "outputs": [],
   "source": [
    "import os\n",
    "import json\n",
    "import pathlib\n",
    "\n",
    "inputpath = '/home/nps2dsoccer/Project/logs/dataset/results'\n"
   ]
  },
  {
   "cell_type": "code",
   "execution_count": 25,
   "metadata": {},
   "outputs": [],
   "source": [
    "def check_for_goal(src, count):\n",
    "    goal = False\n",
    "    with open(src) as inputs:\n",
    "        for line in inputs:\n",
    "\n",
    "            if (\" goal_l\" in line) or (\" goal_r\" in line):\n",
    "                goal = True\n",
    "    return goal\n",
    "        "
   ]
  },
  {
   "cell_type": "code",
   "execution_count": 27,
   "metadata": {},
   "outputs": [
    {
     "output_type": "stream",
     "name": "stdout",
     "text": [
      "Goal:  10 24\n"
     ]
    }
   ],
   "source": [
    "total_situations = 0\n",
    "count = 0\n",
    "for log_file in pathlib.Path(inputpath).glob('**/*.rcg'):\n",
    "    total_situations += 1\n",
    "    count += 1 if check_for_goal(log_file, count) else 0\n",
    "\n",
    "print(\"Goal: \" , count, total_situations)"
   ]
  },
  {
   "cell_type": "code",
   "execution_count": null,
   "metadata": {},
   "outputs": [],
   "source": []
  }
 ]
}